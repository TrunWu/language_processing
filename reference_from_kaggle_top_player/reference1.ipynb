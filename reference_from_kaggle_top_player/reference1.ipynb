{
  "cells": [
    {
      "metadata": {
        "_uuid": "e65aa821732bb54d98d0d83ed99dc7d5277f7ed7"
      },
      "cell_type": "markdown",
      "source": "# Exploratory Data Analysis\n\nIf graphs are not displayed properly, please visit the jupyter notebook in my github account [https://github.com/solegalli/DataScience-Portfolio](https://github.com/solegalli/DataScience-Portfolio/tree/master/AirlineSentimentAnalysis)"
    },
    {
      "metadata": {
        "_uuid": "420ac4e58d2aed488d199bad98f3326d5302c0d2",
        "trusted": false
      },
      "cell_type": "code",
      "source": "options(jupyter.plot_mimetypes = \"image/png\")",
      "execution_count": null,
      "outputs": []
    },
    {
      "metadata": {
        "_uuid": "909bd52fb40ea0f8610d56d0a0c9dee6a3d61c45",
        "trusted": false
      },
      "cell_type": "code",
      "source": "data = read.csv('../input/Tweets.csv')\ndim(data)\nstr(data)",
      "execution_count": null,
      "outputs": []
    },
    {
      "metadata": {
        "_uuid": "504aebf7db2268c469a97145b002dbbc98047714"
      },
      "cell_type": "markdown",
      "source": "The dataset contains 14640 tweets and 15 variables (columns).\n\n## Proportion of tweets with each sentiment"
    },
    {
      "metadata": {
        "_uuid": "4c5bc7fd17e8c3f18e0034aeac065a6fe23cc49e",
        "trusted": false
      },
      "cell_type": "code",
      "source": "prop.table(table(data$airline_sentiment))",
      "execution_count": null,
      "outputs": []
    },
    {
      "metadata": {
        "_uuid": "3858612c98f09410b89dd51469d1138b1bb774de"
      },
      "cell_type": "markdown",
      "source": "We see that most of the tweets contain negative sendiment, as labelled by the curators of the dataset."
    },
    {
      "metadata": {
        "_uuid": "102ca1b11c9cd8d6f8b83c3606012b39ea5f440b",
        "trusted": false
      },
      "cell_type": "code",
      "source": "# generate a dataframe for plotting in ggplot2\nsmallData = as.data.frame(prop.table(table(data$airline_sentiment)))\ncolnames(smallData) = c('Sentiment', 'Frequency')\nsmallData",
      "execution_count": null,
      "outputs": []
    },
    {
      "metadata": {
        "_uuid": "20c30e0c7679e382f3c4008ba9fa4110473de6e5",
        "trusted": false
      },
      "cell_type": "code",
      "source": "library(ggplot2)\nlibrary(gridExtra)\n\n# create blank theme for pie chart, otherwise it looks awful in my opinion\nblank_theme = theme_minimal() + theme(\n    axis.title.x = element_blank(),\n    axis.title.y = element_blank(),\n    panel.border = element_blank(),\n    axis.ticks = element_blank(),\n    plot.title = element_text(size = 14, face = 'bold') )\n\ngbar = ggplot(smallData, aes(x = Sentiment, y = Frequency, fill = Sentiment))\ngpie = ggplot(smallData, aes(x = \"\", y = Frequency, fill = Sentiment))\n\nplot1 = gbar + geom_bar(stat = 'identity') + ggtitle(\"Overall Sentiment\") + \n        theme(plot.title = element_text(size = 14, face = 'bold', vjust = 1),\n              axis.title.y = element_text(vjust = 2), axis.title.x = element_text(vjust = -1))\n\nplot2 = gpie + geom_bar(stat = 'identity') + coord_polar(\"y\", start = 0) + blank_theme +\n        theme(axis.title.x = element_blank()) + geom_text(aes(y = Frequency/3 + c(0, cumsum(Frequency)[-length(Frequency)]),\n        label = round(Frequency, 2)), size = 4) + ggtitle('Overall Sentiment')\n\ngrid.arrange(plot1, plot2, ncol = 1, nrow = 2)",
      "execution_count": null,
      "outputs": []
    },
    {
      "metadata": {
        "_uuid": "8b97fde3f08800b2269cae7660c063f72d442add"
      },
      "cell_type": "markdown",
      "source": "We can see from the bar plot and the pie that most tweets contain negative sentiment.\n\n## Proportion of tweets per airline"
    },
    {
      "metadata": {
        "_uuid": "798ac0a56d0f3f6962cbe01adea03e51df45997a",
        "trusted": false
      },
      "cell_type": "code",
      "source": "prop.table(table(data$airline))",
      "execution_count": null,
      "outputs": []
    },
    {
      "metadata": {
        "_uuid": "71f2e636117fb174b8b3257502f6bf88289d3e97",
        "trusted": false
      },
      "cell_type": "code",
      "source": "# dataframe for plotting in ggplot\nsmallData = as.data.frame(prop.table(table(data$airline)))\ncolnames(smallData) = c('airline', 'Frequency')\nsmallData",
      "execution_count": null,
      "outputs": []
    },
    {
      "metadata": {
        "_uuid": "f363c3aeee27b7362b876cd1b9ce2dd2059b34c0",
        "trusted": false
      },
      "cell_type": "code",
      "source": "gbar = ggplot(smallData, aes(x = airline, y = Frequency, fill = airline))\ngbar + geom_bar(stat = 'identity') + scale_fill_brewer() + ggtitle('Percentage of Tweets per Airline') +\nguides(fill = FALSE) + theme(plot.title = element_text(size = 14, face = 'bold', vjust = 1))",
      "execution_count": null,
      "outputs": []
    },
    {
      "metadata": {
        "_uuid": "61d2557dd957a1001422b54d16ab31158041b60e"
      },
      "cell_type": "markdown",
      "source": "Most of the tweets are directed towards United Airlines, followed by American and US Airways. Very few tweets are targeted towards Virgin America.\n\n## Proportion of negative sentiment tweets per airline"
    },
    {
      "metadata": {
        "_uuid": "de6357cb2a5ba3ef23ce990cf95694c652fddc32",
        "trusted": false
      },
      "cell_type": "code",
      "source": "prop.table(table(data$airline_sentiment, data$airline))",
      "execution_count": null,
      "outputs": []
    },
    {
      "metadata": {
        "_uuid": "09abcb9378e289ce8879e46241cc5a6ec4dea6f8",
        "trusted": false
      },
      "cell_type": "code",
      "source": "# dataframe for ggplot\nsmallData = as.data.frame(prop.table(table(data$airline_sentiment, data$airline)))\ncolnames(smallData) = c('Sentiment', 'Airline', 'Percentage_Tweets')\n\ngbar = ggplot(smallData, aes(x = Airline, y = Percentage_Tweets, fill = Sentiment)) + ggtitle('Proportion of Tweets per Airline') +\ntheme(plot.title = element_text(size = 14, face = 'bold', vjust = 1), axis.title.x = element_text(vjust = -1))\n\nplot1 = gbar + geom_bar(stat = 'identity')\nplot2 = gbar + geom_bar(stat = 'identity', position = 'fill')\n\ngrid.arrange(plot1, plot2, ncol = 1, nrow = 2)",
      "execution_count": null,
      "outputs": []
    },
    {
      "metadata": {
        "_uuid": "bcf236a5fa330407c7bf9ed7949430ee4f8e4beb"
      },
      "cell_type": "markdown",
      "source": "The second plot is more informative, in the sense that it allows as to see the proportion of negative sentiment tweets per airline. We see that American, United and US Airways directed tweets are mostly negative. On the contrary, tweets directed towards Delta, Southwest and Virgin contain a good proportion of neutral and positive sentiment tweets.\n\n## Reasons for negative sentiment tweets"
    },
    {
      "metadata": {
        "_uuid": "f783fd2bc392658153200ffd1381613db0cb6520",
        "trusted": false
      },
      "cell_type": "code",
      "source": "# dataframe for ggplot\nsmallData = as.data.frame(prop.table(table(data$negativereason)))\ncolnames(smallData) = c('Reason', 'Frequency')\nsmallData = smallData[-1, ] # remove first raw as it has no reason specified\nsmallData",
      "execution_count": null,
      "outputs": []
    },
    {
      "metadata": {
        "_uuid": "23b56ec6d3997f3ac19a150bb1d5fb7e6917f4ca",
        "trusted": false
      },
      "cell_type": "code",
      "source": "g = ggplot(smallData, aes(x = Reason, y = Frequency)) + geom_bar(stat = 'identity', fill = 'pink')\ng = g + ggtitle('Reasons for Negative Sentiment')\ng = g + theme(plot.title = element_text(size = 14, face = 'bold', vjust = 1), axis.title.x = element_text(vjust = -0.1),\n              axis.text.x = element_text(angle = 30, size = 10, vjust = 1))\ng",
      "execution_count": null,
      "outputs": []
    },
    {
      "metadata": {
        "_uuid": "f5630b849ced58aaa1a219c308e60294a9f851f0"
      },
      "cell_type": "markdown",
      "source": "We see that negative sentiment is mostly elicited by Customer Service Issues (presumably bad customer service), followed by Late Flights.\n\n## Reasons for negative sentiment per airline"
    },
    {
      "metadata": {
        "_uuid": "9d3af1328829eafc63f05ea491160b5225f6d5c2",
        "trusted": false
      },
      "cell_type": "code",
      "source": "American = subset(data, airline == 'American')\nUSAirways = subset(data, airline == 'US Airways')\nDelta = subset(data, airline == 'Delta')\nSouthwest = subset(data, airline = 'Southwest')\nVirgin = subset(data, airline = 'Southwest')\nUnited = subset(data, airline = 'United')",
      "execution_count": null,
      "outputs": []
    },
    {
      "metadata": {
        "_uuid": "6e3a4296a4cc143217ece9c3796d3ea8e0c4688b",
        "trusted": false
      },
      "cell_type": "code",
      "source": "g1 = ggplot(as.data.frame(prop.table(table(American$negativereason))), aes(x = Var1, y = Freq)) +\ngeom_bar(stat = 'identity', fill = 'lightblue')\ng1 = g1 + ggtitle('American: Reasons for bad sentiment')\ng1 = g1 + theme(plot.title = element_text(size = 14, face = 'bold', vjust = 1), axis.title.x = element_blank(),\n                axis.text.x = element_text(angle = 30, size = 10, vjust = 1))\n\ng2 = ggplot(as.data.frame(prop.table(table(United$negativereason))), aes(x = Var1, y = Freq)) +\ngeom_bar(stat = 'identity', fill = 'lightblue')\ng2 = g2 + ggtitle('United: Reasons for bad sentiment')\ng2 = g2 + theme(plot.title = element_text(size = 14, face = 'bold', vjust = 1), axis.title.x = element_blank(),\n                axis.text.x = element_text(angle = 30, size = 10, vjust = 1))\n\ng3 = ggplot(as.data.frame(prop.table(table(USAirways$negativereason))), aes(x = Var1, y = Freq)) +\ngeom_bar(stat = 'identity', fill = 'lightblue')\ng3 = g3 + ggtitle('US Airways: Reasons for bad sentiment')\ng3 = g3 + theme(plot.title = element_text(size = 14, face = 'bold', vjust = 1), axis.title.x = element_blank(),\n                axis.text.x = element_text(angle = 30, size = 10, vjust = 1))\n\ng4 = ggplot(as.data.frame(prop.table(table(Delta$negativereason))), aes(x = Var1, y = Freq)) +\ngeom_bar(stat = 'identity', fill = 'lightblue')\ng4 = g4 + ggtitle('Delta: Reasons for bad sentiment')\ng4 = g4 + theme(plot.title = element_text(size = 14, face = 'bold', vjust = 1), axis.title.x = element_blank(),\n                axis.text.x = element_text(angle = 30, size = 10, vjust = 1))\n\ng5 = ggplot(as.data.frame(prop.table(table(Southwest$negativereason))), aes(x = Var1, y = Freq)) +\ngeom_bar(stat = 'identity', fill = 'lightblue')\ng5 = g5 + ggtitle('Southwest: Reasons for bad sentiment')\ng5 = g5 + theme(plot.title = element_text(size = 14, face = 'bold', vjust = 1), axis.title.x = element_blank(),\n                axis.text.x = element_text(angle = 30, size = 10, vjust = 1))\n\ng6 = ggplot(as.data.frame(prop.table(table(Virgin$negativereason))), aes(x = Var1, y = Freq)) +\ngeom_bar(stat = 'identity', fill = 'lightblue')\ng6 = g6 + ggtitle('Virgin: Reasons for bad sentiment')\ng6 = g6 + theme(plot.title = element_text(size = 14, face = 'bold', vjust = 1), axis.title.x = element_blank(),\n                axis.text.x = element_text(angle = 30, size = 10, vjust = 1))\n\ngrid.arrange(g1, g2, ncol = 1, nrow = 2)",
      "execution_count": null,
      "outputs": []
    },
    {
      "metadata": {
        "_uuid": "8010b8e71563b6c6a4cad0da7bd1c4f56572883c",
        "trusted": false
      },
      "cell_type": "code",
      "source": "grid.arrange(g3, g4, ncol = 1, nrow = 2)",
      "execution_count": null,
      "outputs": []
    },
    {
      "metadata": {
        "_uuid": "ddf3ce767067d86e6a7ea76884b7e269a700a09f",
        "trusted": false
      },
      "cell_type": "code",
      "source": "grid.arrange(g5, g6, ncol = 1, nrow = 2)",
      "execution_count": null,
      "outputs": []
    },
    {
      "metadata": {
        "_uuid": "af7e7091005df24dfe3fd194b89711d37980963c"
      },
      "cell_type": "markdown",
      "source": "From the plots we can see that for American airlines, negative sentiment is elicited mostly by Customer Service related Issues, and not so much for Late Flights. We could speculate that American flights depart mostly on time. The same seems to be true for Virgin and Southwest airlines. Virgin seems to have a sub-optimal booking system, as booking problems is the second reason eliciting bad sentiment in tweets.\n\nUS Airways and United have a number of complaints for Customer Service Issues followed closely by Late Flights.\n\nOn the contrary, for Delta most of the complaints are due to late flights. We could then speculate that Delta has problems with having their flights depart on time, yet they show a perhaps better customer service.\n\n## Exploratory data analysis: columns containing NAs (no data)"
    },
    {
      "metadata": {
        "_uuid": "09d5fa16388fa56dc363c0129098cee122d1a655",
        "trusted": false
      },
      "cell_type": "code",
      "source": "# fill with NA cells in dataframe containing \"\", \" \" or the string NA\ndata = as.data.frame(apply(data, 2, function(x) gsub(\"^$|^ $\", NA, x)))",
      "execution_count": null,
      "outputs": []
    },
    {
      "metadata": {
        "_uuid": "64f9c6c8f3269e6b2d007d9e6caf682ec320b3a3",
        "trusted": false
      },
      "cell_type": "code",
      "source": "# check which columns contain NA and how many\napply(data, 2, function(x) sum(is.na(x)))",
      "execution_count": null,
      "outputs": []
    },
    {
      "metadata": {
        "_uuid": "792dc6d67e9cee22f649eae2b4789973f1f5bcaa"
      },
      "cell_type": "markdown",
      "source": "Airline_sentiment_gold and nevative_reason_gold are mostly empty columns, i.e., they contain no information.\n\n## Re-tweet analysis"
    },
    {
      "metadata": {
        "_uuid": "5075e70d47b5a385e205c95f88a53b6440e4a8db",
        "trusted": false
      },
      "cell_type": "code",
      "source": "table(data$retweet_count)",
      "execution_count": null,
      "outputs": []
    },
    {
      "metadata": {
        "_uuid": "0b2e9521cb297a460fcfc12f3c68a9aaeaeae0e1"
      },
      "cell_type": "markdown",
      "source": "We can see tht most of the tweets are actually not retweeted. A very tiny fraction of them (640/14640) are tweeted only once. However, 4 tweets have been retweeted 44, 32, 31 and 28 times. Let's have a look and see why they say."
    },
    {
      "metadata": {
        "_uuid": "9916b289d7cd63d5e633e6473a5745f135a9c1e2",
        "trusted": false
      },
      "cell_type": "code",
      "source": "as.character(subset(data, retweet_count ==44)$text);\nprint(\" \")\nas.character(subset(data, retweet_count ==32)$text);\nprint(\" \")\nas.character(subset(data, retweet_count ==31)$text);\nprint(\" \")\nas.character(subset(data, retweet_count ==28)$text)",
      "execution_count": null,
      "outputs": []
    },
    {
      "metadata": {
        "_uuid": "e743ad4f3de37ce1cff8b39172f11d3cd045aa16"
      },
      "cell_type": "markdown",
      "source": "The first 2 tweets show clear anger directed to US Airways. There was a substantial delay in the flight according to the first tweet, however the reason  is not clear in the second tweet. The third tweet is directed towards Delta, although it is not clear what the message is. The curator of the dataset identified this tweet as negative, perhaps she followed the link attached for more information. I can't tell what the sentiment is from those lines.\nFinally, the fourth tweet is also targeted towards US Airways, the sentiment is neutral according to the curator of the dataset. I can't say what it was referring to from those lines.\n\n## Tweet location exploration"
    },
    {
      "metadata": {
        "_uuid": "fe16aff57b29709c687ee68e0487f2d865a3b2ae",
        "trusted": false
      },
      "cell_type": "code",
      "source": "head(unique(data$tweet_location), 50)",
      "execution_count": null,
      "outputs": []
    },
    {
      "metadata": {
        "_uuid": "6b335727934ca0ac1865b108811f9be645d4929c"
      },
      "cell_type": "markdown",
      "source": "It would have been useful to know the location of the tweets to determine if certain areas are more prone to tweet, or to have one sentiment or the other. However, different users type different things for location, for example \"1/1 loner squad\" or \"i'am creating a monster\", which makes this variable a bit useless.\n    \n## Tweet timezone study"
    },
    {
      "metadata": {
        "_uuid": "67f9fbeca041e90c5108dee1ceaaebcc7566e56f",
        "trusted": false
      },
      "cell_type": "code",
      "source": "timezone = as.data.frame(prop.table(table(data$user_timezone)))\ncolnames(timezone) = c('timezone', 'Frequency')\ntimezone = timezone[order(timezone$Frequency, decreasing = TRUE),]\ndim(timezone)\nhead(timezone, 10)",
      "execution_count": null,
      "outputs": []
    },
    {
      "metadata": {
        "_uuid": "7df6b161a2444bfcf2291165226d909f8b487978"
      },
      "cell_type": "markdown",
      "source": "We find the great majority of tweets coming from Eastern time zone and almost all the tweets come from US & Canada time zone.\n\n## Location of tweets: Visualisation on maps"
    },
    {
      "metadata": {
        "_uuid": "84c7ad7f44d23a38f9be61db699572337dbd7825",
        "trusted": false
      },
      "cell_type": "code",
      "source": "location = data$tweet_coord\nlocation = location[complete.cases(location)] # remove NAs\nlocation = as.data.frame(location)\nlocation$count =  1 # add a count column filled with 1s\nlocation$location = as.character(location$location)\n#remove duplicate locations and count the times they appeared, write the count in the count column\nlocation = aggregate(count~location, data = location, FUN = sum)\nlocation = location[-5,] # removes row containing coords [0,0] which are probably wrong\ncoords = strsplit(location$location, ',') \n\n# separate lat and long from location\nlat = NULL\nlong = NULL\nfor (i in 1:length(coords)) {\n    lat = c(lat, substring(coords[[i]][1], 2)) # removes first character which is [\n    long = c(long, coords[[i]][2]) \n}\n\nlocation$lat = lat\nlocation$long = long\n\n# remove ]\nlocation$long = substr(location$long, 1, nchar(location$long)-1)\n\nlocation$lat = as.numeric(location$lat)\nlocation$long = as.numeric(location$long)\n   \nhead(location)\nprint('')\ndim(location)",
      "execution_count": null,
      "outputs": []
    },
    {
      "metadata": {
        "_uuid": "fbb318500529c02863d107d4c214138f2b049172",
        "trusted": false
      },
      "cell_type": "code",
      "source": "require(maps)\nworld_map <- map_data(\"world\")\ng1 = ggplot()\ng1 = g1 + geom_polygon(data=world_map, aes(x=long, y=lat, group = group), colour=\"black\", fill = 'lightblue') + \nggtitle(\"Location of tweets across the World\")\ng1 = g1 + geom_point(data=location, aes(x=long, y=lat, size = count), color=\"coral1\") + scale_size(name=\"Total Tweets\")\ng1 = g1 + ylim(-50, 80)\n\nstates <- map_data(\"state\")\ng2 = ggplot()\ng2 =g2 + geom_polygon(data=states, aes(x=long, y=lat, group = group), colour=\"black\", fill = 'lightblue') + \nggtitle(\"Location of tweets across the States\")\ng2 = g2 + geom_point(data=location, aes(x=long, y=lat, size = count), color=\"coral1\") + scale_size(name=\"Total Tweets\")\ng2 = g2 + xlim(-125, -65) + ylim(25, 50)\n#grid.arrange(g, ncol=1, nrow = 2)\n\ngrid.arrange(g1, g2, ncol=1, nrow = 2)",
      "execution_count": null,
      "outputs": []
    },
    {
      "metadata": {
        "_uuid": "820b456e1a145def1ebf821d3b8e59dcc5172d32"
      },
      "cell_type": "markdown",
      "source": "## Conclusions\nWe conducted exploratory data analysis to understand and get familiar with the data at hand. We have found that:\n\n* Most tweets have negative sentiment (>60%).\n* Most tweets are targeted towards United airlines, followed by American and US Airways.\n* Virgin receives very few tweets.\n* Most of the tweets targeted towards American, United and US Airways contain negative sentiment.\n* Tweets targeted towards Delta, Virgin and Southwest containg roughly same proportion of negative, neutral and positive sentiment.\n* Main reasons for negative sentiment are Customer Service Issues and Late Flights.\n* Negative sentiment tweets towards Delta are based mostly on alte flights and not so much on Customer Service Issues as for the rest of the airlines.\n* Most tweets are not retweeted.\n* Most tweets come from US & Canada time zone.\n* Most tweets come from the States.\n\nIn part 2 of these studies, I will evaluate the text of the tweets to extract some common themes and get a deeper understanding of the reasons for negative AND positive sentiment."
    },
    {
      "metadata": {
        "_uuid": "6c1f4380ac7deb1d686e2a52503378c381fd145e",
        "trusted": false
      },
      "cell_type": "code",
      "source": "",
      "execution_count": null,
      "outputs": []
    }
  ],
  "metadata": {
    "kernelspec": {
      "display_name": "R",
      "language": "R",
      "name": "ir"
    },
    "language_info": {
      "mimetype": "text/x-r-source",
      "name": "R",
      "pygments_lexer": "r",
      "version": "3.4.2",
      "file_extension": ".r",
      "codemirror_mode": "r"
    }
  },
  "nbformat": 4,
  "nbformat_minor": 1
}