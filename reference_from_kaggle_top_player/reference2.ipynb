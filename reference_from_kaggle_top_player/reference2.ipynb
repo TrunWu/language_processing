{
  "cells": [
    {
      "metadata": {
        "_uuid": "9041c0105ac9f289934bbc479847177bb5790129"
      },
      "cell_type": "markdown",
      "source": "# Analysis of text content of tweets\n\nIf graphs are not displayed properly, please visit the jupyter notebooks in my github account [https://github.com/solegalli/DataScience-Portfolio](https://github.com/solegalli/DataScience-Portfolio/tree/master/AirlineSentimentAnalysis)"
    },
    {
      "metadata": {
        "_uuid": "aea29b019710d75925d920f0da769d59c3132721",
        "trusted": false
      },
      "cell_type": "code",
      "source": "options(jupyter.plot_mimetypes = \"image/png\")",
      "execution_count": null,
      "outputs": []
    },
    {
      "metadata": {
        "_uuid": "59db24b71dc25cc0cc7ea6ee94db185d906b88f6",
        "trusted": false
      },
      "cell_type": "code",
      "source": "data = read.csv('../input/Tweets.csv')\nlibrary(dplyr)\ndata = select(data,airline_sentiment, negativereason, airline, text)\nhead(data)",
      "execution_count": null,
      "outputs": []
    },
    {
      "metadata": {
        "_uuid": "1b0b8fbf63eae0a66b2732b32574a6916023ae5f"
      },
      "cell_type": "markdown",
      "source": "Every tweet begins with a @airline tag, which indicates the airline towards which the message is directed. To analyse the content of the tweet, this part is not relevant, so it will be removed from the tweet texts."
    },
    {
      "metadata": {
        "_uuid": "7d7dc28e058a541ce2ca6eec6c3f69dfd6fd7aea",
        "trusted": false
      },
      "cell_type": "code",
      "source": "# Remove the @airline bit of the text of the tweet\ndata$text = gsub(\"^@\\\\w+ *\", \"\", data$text)\nhead(data)",
      "execution_count": null,
      "outputs": []
    },
    {
      "metadata": {
        "_uuid": "c7cc328545169a5df67e014e532eb4534626a7cb"
      },
      "cell_type": "markdown",
      "source": "We can see now, that the tweets do not contain the @airline tag. They are ready to be processed. Tweets classified as negative or positive will be analysed separately."
    },
    {
      "metadata": {
        "_uuid": "eeb4be1db31ca74026cc7c9f32498c1e385f6fef",
        "trusted": false
      },
      "cell_type": "code",
      "source": "# divide tweets in 2 dataframes according to positive or negative sentiment\npositive = subset(data, airline_sentiment == 'positive')\nnegative = subset(data, airline_sentiment == 'negative')\ndim(positive); dim(negative)",
      "execution_count": null,
      "outputs": []
    },
    {
      "metadata": {
        "_uuid": "933490b99a788913b01972ec4dda46aee43a3597"
      },
      "cell_type": "markdown",
      "source": "We see that from the total amount of tweets (14640), 2363 have been clasified as positive and 9178 as negative.\n\n## Determine word frequency and build cloud of words for each sentiment"
    },
    {
      "metadata": {
        "_uuid": "a76c92be1dbd73a5569cd4b579c8cf099b42c6f6",
        "trusted": false
      },
      "cell_type": "code",
      "source": "library(tm); library(SnowballC)\nlibrary(wordcloud)\n\n# these words appear quite frequently in tweets and in my opinion are not informative,\n# so I will remove them\"\nwordsToRemove = c('get', 'cant', 'can', 'now', 'just', 'will', 'dont', 'ive', 'got', 'much')\n\n# generate a function to analyse corpus text\nanalyseText = function(text_to_analyse){\n    # analyse text and generate matrix of words\n    # Returns a dataframe containing 1 tweet per row, one word per column\n    # and the number of times the word appears per tweet\n    CorpusTranscript = Corpus(VectorSource(text_to_analyse))\n    CorpusTranscript = tm_map(CorpusTranscript, content_transformer(tolower), lazy = T)\n    CorpusTranscript = tm_map(CorpusTranscript, PlainTextDocument, lazy = T)\n    CorpusTranscript = tm_map(CorpusTranscript, removePunctuation)\n    CorpusTranscript = tm_map(CorpusTranscript, removeWords, wordsToRemove)\n    CorpusTranscript = tm_map(CorpusTranscript, removeWords, stopwords(\"english\"))\n    CorpusTranscript = DocumentTermMatrix(CorpusTranscript)\n    CorpusTranscript = removeSparseTerms(CorpusTranscript, 0.97) # keeps a matrix 97% sparse\n    CorpusTranscript = as.data.frame(as.matrix(CorpusTranscript))\n    colnames(CorpusTranscript) = make.names(colnames(CorpusTranscript))\n    \n    return(CorpusTranscript)\n}",
      "execution_count": null,
      "outputs": []
    },
    {
      "metadata": {
        "_uuid": "71d319a06529ec3fe55256e09b55584483861e9c",
        "trusted": false
      },
      "cell_type": "code",
      "source": "words = analyseText(negative$text)\ndim(words)",
      "execution_count": null,
      "outputs": []
    },
    {
      "metadata": {
        "_uuid": "2928c21a19727a035b7c61fa3df7396476f434f6"
      },
      "cell_type": "markdown",
      "source": "The function has extracted 30 words (1 per column) that are repeated with certain frequency accross all negative tweets. Each column specifies how many times that specific word appeared in each tweet (in each row). The sum of the column specifies how many times that specific word was used altogether in all negative tweets."
    },
    {
      "metadata": {
        "_uuid": "129b324af5495530c25209e70c47247c0101dfd0",
        "trusted": false
      },
      "cell_type": "code",
      "source": "# sum the number of times each word appears in total accross all negative tweets.\nfreqWords_neg = colSums(words)\nfreqWords_neg = freqWords_neg[order(freqWords_neg, decreasing = T)]\nhead(freqWords_neg)",
      "execution_count": null,
      "outputs": []
    },
    {
      "metadata": {
        "_uuid": "2a7688ec115cd50ac7fcf1787bf9674a35c5fabe"
      },
      "cell_type": "markdown",
      "source": "We see for example that the word flight appeared 2901 times considering all negative tweets, and the word cancelled appeared 920 times."
    },
    {
      "metadata": {
        "_uuid": "78517ba3ab1a841727f52f0778cf5b967058a2a3",
        "trusted": false
      },
      "cell_type": "code",
      "source": "# analysis of positive tweets\nwords = analyseText(positive$text)\ndim(words)",
      "execution_count": null,
      "outputs": []
    },
    {
      "metadata": {
        "_uuid": "66586f8376bd2113891cf7e034bf2c5326008b6b"
      },
      "cell_type": "markdown",
      "source": "The function has determined 18 words that appear with certain frequency accross positive tweets."
    },
    {
      "metadata": {
        "_uuid": "a7cd3725db1d9c9d9ffc3534c83e8b99769d3e00",
        "trusted": false
      },
      "cell_type": "code",
      "source": "freqWords_pos = colSums(words)\nfreqWords_pos = freqWords_pos[order(freqWords_pos, decreasing = T)]\nhead(freqWords_pos)",
      "execution_count": null,
      "outputs": []
    },
    {
      "metadata": {
        "_uuid": "84b68a1f5aaf42cf721076ab46f4e7d3391745bd"
      },
      "cell_type": "markdown",
      "source": "As \"thank\" and \"thanks\" are conveying the same message, I will sumarise them in one column."
    },
    {
      "metadata": {
        "_uuid": "4f66b0567b104ae9ec38a3c6b4764a9633faec08",
        "trusted": false
      },
      "cell_type": "code",
      "source": "# combine thanks and remove extra column\nfreqWords_pos[1] = freqWords_pos[1] + freqWords_pos[2]\nfreqWords_pos = freqWords_pos[-2]\nhead(freqWords_pos)",
      "execution_count": null,
      "outputs": []
    },
    {
      "metadata": {
        "_uuid": "c16cc13db590d2d6b16c997d90efc276385a9e0a"
      },
      "cell_type": "markdown",
      "source": "We see that the word thanks appears 1061 times accross positive tweets, flight 373 times and so on."
    },
    {
      "metadata": {
        "_uuid": "d285a9d3ef17a4e6a67421de92565d8f1bde8fb1",
        "trusted": false
      },
      "cell_type": "code",
      "source": "# word clouds\npar(mfrow = c(1,2))\n\nwordcloud(freq = as.vector(freqWords_neg), words = names(freqWords_neg),random.order = FALSE,\n          random.color = FALSE, colors = brewer.pal(9, 'Reds')[4:9])\n\nwordcloud(freq = as.vector(freqWords_pos), words = names(freqWords_pos),random.order = FALSE,\n          random.color = FALSE, colors = brewer.pal(9, 'BuPu')[4:9])",
      "execution_count": null,
      "outputs": []
    },
    {
      "metadata": {
        "_uuid": "6f27e98d9c9fb39b9b230a2abe129777887e2b53"
      },
      "cell_type": "markdown",
      "source": "The cloud of words provide a nice visual representation of the word frequency for each type of sentiment (negative: left or positive: right). The size of the word correlates with its frequency accross all tweets. We can get an idea of what people are talking about. For example, for negative sentiment, people seem to complain about cancelled or delayed flights, and hours waiting. However, for positive sentiment, people are mostly thankful and they talk about great service/flight.\n\nIn the following section, I will analyse the association between words, i.e., words that usually are mentioned together in tweets. "
    },
    {
      "metadata": {
        "_uuid": "f7e1ec7d71755d988731b615b26fc3ebcd571720",
        "trusted": false
      },
      "cell_type": "code",
      "source": "# generate a function to analyse corpus text and return a document term matrix instead of dataframe\n# we can perform further analysis on document term matrices\nanalyseText2 = function(text_to_analyse){\n    # analyse text and generate matrix of words\n    # Returns a dtm containing 1 tweet per row, one word per column\n    # and the number of times the word appears per tweet\n    CorpusTranscript = Corpus(VectorSource(text_to_analyse))\n    CorpusTranscript = tm_map(CorpusTranscript, content_transformer(tolower), lazy = T)\n    CorpusTranscript = tm_map(CorpusTranscript, PlainTextDocument, lazy = T)\n    CorpusTranscript = tm_map(CorpusTranscript, removePunctuation)\n    CorpusTranscript = tm_map(CorpusTranscript, removeWords, wordsToRemove)\n    CorpusTranscript = tm_map(CorpusTranscript, removeWords, stopwords(\"english\"))\n    CorpusTranscript = DocumentTermMatrix(CorpusTranscript)\n    CorpusTranscript = removeSparseTerms(CorpusTranscript, 0.97) # keeps a matrix 97% sparse\n    \n    return(CorpusTranscript)\n}",
      "execution_count": null,
      "outputs": []
    },
    {
      "metadata": {
        "_uuid": "bece55428bf60c41ad3e3fbbbbc5130b2b31b96e",
        "trusted": false
      },
      "cell_type": "code",
      "source": "words_neg = analyseText2(negative$text)\n# find words correlated with the ones mentioned below (correlation at 70%)\nfindAssocs(words_neg, c(\"flight\", 'customer', 'gate', 'phone'), .07)",
      "execution_count": null,
      "outputs": []
    },
    {
      "metadata": {
        "_uuid": "dbccbb60bc884769c5c3372afc550fa6f177cd5c"
      },
      "cell_type": "markdown",
      "source": "We see that in negative tweets, the appearance of the word flight correlates with the appearance of the words cancelled, late and delayed, indicating that people are complaining about delayed flights. The word customer is associated with the word service, which is expected, as customer service was a recurrent issue in negative tweets. Interestingly, the word gate is associated with the words waiting and plane, which probably means that people were left waiting at the gate for some time before departure.\nSo from this study, and without having read any tweet, we understand that people are generally complaining about."
    },
    {
      "metadata": {
        "_uuid": "04de214317df380f44d884071fbb47d26010d6c0",
        "trusted": false
      },
      "cell_type": "code",
      "source": "words_pos = analyseText2(positive$text)\nfindAssocs(words_pos, c(\"flight\", 'awesome', 'amazing', 'service'), .07)",
      "execution_count": null,
      "outputs": []
    },
    {
      "metadata": {
        "_uuid": "b9d74bed843fbc060cef1fec5ad8d4d22822e00c"
      },
      "cell_type": "markdown",
      "source": "For positive sentiment tweets, we observe that the word flight is associated with great, suggesting that people have had great flight experiences. The word amazing is associated with the word customer, which is in turn associated with the word service, indicating that people experienced an amazing customer service in many opportunities. Similarly, without having actually read any tweet, with this analysis we get an idea of what people are saying about the airlines.\n\n### To further understand the associations between words, we can make clustering analysis of words."
    },
    {
      "metadata": {
        "_uuid": "e88df5e2788f0a2f1456a3e463dbe67e29f757e9",
        "trusted": false
      },
      "cell_type": "code",
      "source": "# hierarchical clustering\nd = dist(t(as.matrix(words_neg)), method = 'euclidean')\nfit = hclust(d = d, method = 'ward.D')\n\n#fancy plot\nop = par(bg = \"#DDE3CA\")\nplot(fit, col = \"#487AA1\", col.main = \"#45ADA8\", col.lab = \"#7C8071\", main = 'Negative Sentiment', xlab = '',\n     col.axis = \"#F38630\", lwd = 3, lty = 3, sub = \"\", hang = -1, axes = FALSE)\n# add axis\naxis(side = 2, at = seq(0, 400, 100), col = \"#F38630\", labels = FALSE, \n     lwd = 2)\n# add text in margin\nmtext(seq(0, 100, 10), side = 2, at = seq(0, 100, 10), line = 1, \n      col = \"#A38630\", las = 2)",
      "execution_count": null,
      "outputs": []
    },
    {
      "metadata": {
        "_uuid": "0346c1dc07e12a2b1752b2ab68b262b2d500fbc5"
      },
      "cell_type": "markdown",
      "source": "In the dendrogram, words that are linked by short arms are highly associated."
    },
    {
      "metadata": {
        "_uuid": "057a563037b1633bf0a16ce39080b2c07707fc0d",
        "trusted": false
      },
      "cell_type": "code",
      "source": "plot.new()\nplot(fit, hang=-1, main = 'Negative Sentiment', xlab = '')\nrect.hclust(fit, k=4, border=\"red\")",
      "execution_count": null,
      "outputs": []
    },
    {
      "metadata": {
        "_uuid": "60e67ab40dbaca77e9f73506be06389b8c48507c"
      },
      "cell_type": "markdown",
      "source": "Although the dendrogram does not seem to be particularly informative, we observe again the association of words like customer and service, and cancelled flight. Words that reflect complains more generally, like waiting, bag (presumably lost), hours, time, hold, cluster altogether."
    },
    {
      "metadata": {
        "_uuid": "9820763cfa1922f03adea7d4146705d12979f09f",
        "trusted": false
      },
      "cell_type": "code",
      "source": "# positive sentiment tweets\nd = dist(t(as.matrix(words_pos)), method = 'euclidean')\nfit = hclust(d = d, method = 'ward.D')\n\n#fancy plot\nop = par(bg = \"#DDE3CA\")\nplot(fit, col = \"#487AA1\", col.main = \"#45ADA8\", col.lab = \"#7C8071\", main = 'Positive Sentiment', xlab = '',\n     col.axis = \"#F38630\", lwd = 3, lty = 3, sub = \"\", hang = -1, axes = FALSE)\n# add axis\naxis(side = 2, at = seq(0, 400, 100), col = \"#F38630\", labels = FALSE, \n     lwd = 2)\n# add text in margin\nmtext(seq(0, 100, 10), side = 2, at = seq(0, 100, 10), line = 1, \n      col = \"#A38630\", las = 2)",
      "execution_count": null,
      "outputs": []
    },
    {
      "metadata": {
        "_uuid": "0ad3c7dba1abea5cf3c49d076c845d2ba8321118"
      },
      "cell_type": "markdown",
      "source": "The positive tweet dendrogram is somewhat more informative. We can see the association of customer-service, and best-airline, or love-guys, good-time, which indicate more clearly, what the experience of the airline client was.\n\n### k-means clustering"
    },
    {
      "metadata": {
        "_uuid": "7f251571f7c3fe29702bbdc87537ce576bb7f771",
        "trusted": false
      },
      "cell_type": "code",
      "source": "library(fpc)   \nd = dist(t(as.matrix(words_neg)), method=\"euclidean\")   \nkfit = kmeans(d, 3)   \nclusplot(as.matrix(d), kfit$cluster, color=T, shade=T, labels=2, lines=0, cex = 0.4, main = 'Negative Sentiment')",
      "execution_count": null,
      "outputs": []
    },
    {
      "metadata": {
        "_uuid": "9e79e387da024419969294d676389f98c961a009",
        "trusted": false
      },
      "cell_type": "code",
      "source": "d = dist(t(as.matrix(words_pos)), method=\"euclidean\")   \nkfit = kmeans(d, 3)   \nclusplot(as.matrix(d), kfit$cluster, color=T, shade=T, labels=2, lines=0, cex = 0.4, main = 'Positive Sentiment')",
      "execution_count": null,
      "outputs": []
    },
    {
      "metadata": {
        "_uuid": "b609dcfbd729bff984a36d828829c25b604abf14"
      },
      "cell_type": "markdown",
      "source": "K-means clustering is another method to determine the proximity of words (which indicates words that are presumably used together). The cluster plots displayed above, however do not shade new light into what we have previously discovered from the text of these tweets. I leave them just to show what we can do in terms of basic text analytics.\nIn the next and final section (part 3), I will build a model to predict the sentiment of tweets based on their text and other characteristics."
    }
  ],
  "metadata": {
    "kernelspec": {
      "display_name": "R",
      "language": "R",
      "name": "ir"
    },
    "language_info": {
      "mimetype": "text/x-r-source",
      "name": "R",
      "pygments_lexer": "r",
      "version": "3.4.2",
      "file_extension": ".r",
      "codemirror_mode": "r"
    }
  },
  "nbformat": 4,
  "nbformat_minor": 1
}