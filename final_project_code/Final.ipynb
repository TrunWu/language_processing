{
 "cells": [
  {
   "cell_type": "code",
   "execution_count": 25,
   "metadata": {},
   "outputs": [],
   "source": [
    "import numpy as np\n",
    "import pandas as pd\n",
    "import matplotlib.pyplot as plt\n",
    "import csv\n",
    "from sklearn.pipeline import FeatureUnion\n",
    "from sklearn.feature_extraction.text import CountVectorizer\n",
    "from sklearn.model_selection import StratifiedKFold, train_test_split\n",
    "from sklearn.linear_model import LogisticRegression\n",
    "from sklearn.naive_bayes import MultinomialNB\n",
    "from sklearn.linear_model import Perceptron\n",
    "from sklearn.svm import LinearSVC\n",
    "import re\n",
    "from sklearn.neighbors import KNeighborsClassifier as knn\n",
    "from sklearn.ensemble import RandomForestClassifier as rf\n",
    "from sklearn.neural_network import MLPClassifier as cnn"
   ]
  },
  {
   "cell_type": "code",
   "execution_count": 2,
   "metadata": {},
   "outputs": [],
   "source": [
    "data_path1 = '../dataset/Tweets-airline-sentiment.csv'\n",
    "#data_path2 = '../dataset/labeledTrainData_head12000.tsv'"
   ]
  },
  {
   "cell_type": "code",
   "execution_count": 3,
   "metadata": {},
   "outputs": [],
   "source": [
    "data = pd.read_csv(data_path1)"
   ]
  },
  {
   "cell_type": "code",
   "execution_count": 4,
   "metadata": {},
   "outputs": [],
   "source": [
    "#data.head()"
   ]
  },
  {
   "cell_type": "code",
   "execution_count": 5,
   "metadata": {},
   "outputs": [],
   "source": [
    "text = data['text']"
   ]
  },
  {
   "cell_type": "code",
   "execution_count": 6,
   "metadata": {},
   "outputs": [],
   "source": [
    "label = data['airline_sentiment']"
   ]
  },
  {
   "cell_type": "code",
   "execution_count": 7,
   "metadata": {},
   "outputs": [
    {
     "name": "stdout",
     "output_type": "stream",
     "text": [
      "['neutral' 'positive' 'negative']\n"
     ]
    }
   ],
   "source": [
    "label_tags = label.unique()\n",
    "print(label_tags)"
   ]
  },
  {
   "cell_type": "code",
   "execution_count": 8,
   "metadata": {},
   "outputs": [],
   "source": [
    "#replace text label with one-hot-labels\n",
    "new_label = []"
   ]
  },
  {
   "cell_type": "code",
   "execution_count": 9,
   "metadata": {},
   "outputs": [],
   "source": [
    "for l in label:\n",
    "    if l == label_tags[0]:\n",
    "        new_label.append(0)\n",
    "    elif l == label_tags[1]:\n",
    "        new_label.append(1)\n",
    "    else:\n",
    "        new_label.append(2)"
   ]
  },
  {
   "cell_type": "code",
   "execution_count": 10,
   "metadata": {},
   "outputs": [],
   "source": [
    "new_label = np.asarray(new_label)"
   ]
  },
  {
   "cell_type": "code",
   "execution_count": 12,
   "metadata": {},
   "outputs": [],
   "source": [
    "#get rid of '@airline_company_name\n",
    "new_text = []"
   ]
  },
  {
   "cell_type": "code",
   "execution_count": 13,
   "metadata": {},
   "outputs": [],
   "source": [
    "for t in text:\n",
    "    new_text.append(re.sub('^@\\w+ *','', t))"
   ]
  },
  {
   "cell_type": "code",
   "execution_count": 14,
   "metadata": {},
   "outputs": [],
   "source": [
    "new_text = np.asarray(new_text)"
   ]
  },
  {
   "cell_type": "code",
   "execution_count": 15,
   "metadata": {},
   "outputs": [
    {
     "data": {
      "text/plain": [
       "((14640,), (14640,))"
      ]
     },
     "execution_count": 15,
     "metadata": {},
     "output_type": "execute_result"
    }
   ],
   "source": [
    "new_text.shape, new_label.shape"
   ]
  },
  {
   "cell_type": "markdown",
   "metadata": {},
   "source": [
    "# model"
   ]
  },
  {
   "cell_type": "code",
   "execution_count": 26,
   "metadata": {},
   "outputs": [],
   "source": [
    "NB = MultinomialNB()\n",
    "pc = Perceptron()\n",
    "svm = LinearSVC()\n",
    "lr = LogisticRegression()\n",
    "random_forest  = rf()\n",
    "KNN = knn(n_neighbors=3)\n",
    "CNN = cnn()"
   ]
  },
  {
   "cell_type": "markdown",
   "metadata": {},
   "source": [
    "# Unigram"
   ]
  },
  {
   "cell_type": "code",
   "execution_count": 17,
   "metadata": {},
   "outputs": [],
   "source": [
    "UniVec = CountVectorizer(max_features = 500, ngram_range = (1,1))\n",
    "uni = UniVec.fit_transform(new_text)"
   ]
  },
  {
   "cell_type": "code",
   "execution_count": 18,
   "metadata": {},
   "outputs": [],
   "source": [
    "skf = StratifiedKFold(n_splits=5)\n"
   ]
  },
  {
   "cell_type": "code",
   "execution_count": 24,
   "metadata": {},
   "outputs": [
    {
     "name": "stdout",
     "output_type": "stream",
     "text": [
      "0.7301962457671689\n"
     ]
    },
    {
     "name": "stderr",
     "output_type": "stream",
     "text": [
      "/usr/local/lib/python3.5/dist-packages/sklearn/linear_model/stochastic_gradient.py:128: FutureWarning: max_iter and tol parameters have been added in <class 'sklearn.linear_model.perceptron.Perceptron'> in 0.19. If both are left unset, they default to max_iter=5 and tol=None. If tol is not None, max_iter defaults to max_iter=1000. From 0.21, default max_iter will be 1000, and default tol will be 1e-3.\n",
      "  \"and default tol will be 1e-3.\" % type(self), FutureWarning)\n"
     ]
    },
    {
     "name": "stdout",
     "output_type": "stream",
     "text": [
      "0.7111350376695293\n",
      "0.7618886777939342\n",
      "0.7667370754555864\n"
     ]
    }
   ],
   "source": [
    "for clf in [NB, pc, svm, lr]:\n",
    "    acc = []\n",
    "    for train_index, test_index in skf.split(uni, new_label):\n",
    "        x_train,x_test = uni[train_index], uni[test_index]\n",
    "        y_train, y_test = new_label[train_index], new_label[test_index]\n",
    "        clf.fit(x_train, y_train)\n",
    "        acc.append(clf.score(x_test, y_test))\n",
    "    acc = np.asarray(acc)\n",
    "    print(acc.mean())"
   ]
  },
  {
   "cell_type": "code",
   "execution_count": 27,
   "metadata": {},
   "outputs": [
    {
     "name": "stdout",
     "output_type": "stream",
     "text": [
      "0.49044845012281224\n",
      "0.7411243931760308\n",
      "0.7334056494059733\n"
     ]
    }
   ],
   "source": [
    "for clf in [KNN, CNN, random_forest]:\n",
    "    acc = []\n",
    "    for train_index, test_index in skf.split(uni, new_label):\n",
    "        x_train,x_test = uni[train_index], uni[test_index]\n",
    "        y_train, y_test = new_label[train_index], new_label[test_index]\n",
    "        clf.fit(x_train, y_train)\n",
    "        acc.append(clf.score(x_test, y_test))\n",
    "    acc = np.asarray(acc)\n",
    "    print(acc.mean())"
   ]
  },
  {
   "cell_type": "markdown",
   "metadata": {},
   "source": [
    "# Bigram"
   ]
  },
  {
   "cell_type": "code",
   "execution_count": 28,
   "metadata": {},
   "outputs": [],
   "source": [
    "BiVec = CountVectorizer(max_features = 500, ngram_range = (2,2))\n",
    "Bi = BiVec.fit_transform(new_text)\n",
    "skf = StratifiedKFold(n_splits=5)"
   ]
  },
  {
   "cell_type": "code",
   "execution_count": 29,
   "metadata": {},
   "outputs": [
    {
     "name": "stdout",
     "output_type": "stream",
     "text": [
      "0.7301962457671689\n",
      "0.7111350376695293\n"
     ]
    },
    {
     "name": "stderr",
     "output_type": "stream",
     "text": [
      "/usr/local/lib/python3.5/dist-packages/sklearn/linear_model/stochastic_gradient.py:128: FutureWarning: max_iter and tol parameters have been added in <class 'sklearn.linear_model.perceptron.Perceptron'> in 0.19. If both are left unset, they default to max_iter=5 and tol=None. If tol is not None, max_iter defaults to max_iter=1000. From 0.21, default max_iter will be 1000, and default tol will be 1e-3.\n",
      "  \"and default tol will be 1e-3.\" % type(self), FutureWarning)\n"
     ]
    },
    {
     "name": "stdout",
     "output_type": "stream",
     "text": [
      "0.7618886777939342\n",
      "0.7667370754555864\n",
      "0.49044845012281224\n",
      "0.7298525695649101\n"
     ]
    }
   ],
   "source": [
    "for clf in [NB, pc, svm, lr, KNN, random_forest]:\n",
    "    acc = []\n",
    "    for train_index, test_index in skf.split(uni, new_label):\n",
    "        x_train,x_test = uni[train_index], uni[test_index]\n",
    "        y_train, y_test = new_label[train_index], new_label[test_index]\n",
    "        clf.fit(x_train, y_train)\n",
    "        acc.append(clf.score(x_test, y_test))\n",
    "    acc = np.asarray(acc)\n",
    "    print(acc.mean())"
   ]
  },
  {
   "cell_type": "code",
   "execution_count": 30,
   "metadata": {},
   "outputs": [
    {
     "name": "stdout",
     "output_type": "stream",
     "text": [
      "0.743923727176688\n"
     ]
    }
   ],
   "source": [
    "for clf in [CNN]:\n",
    "    acc = []\n",
    "    for train_index, test_index in skf.split(uni, new_label):\n",
    "        x_train,x_test = uni[train_index], uni[test_index]\n",
    "        y_train, y_test = new_label[train_index], new_label[test_index]\n",
    "        clf.fit(x_train, y_train)\n",
    "        acc.append(clf.score(x_test, y_test))\n",
    "    acc = np.asarray(acc)\n",
    "    print(acc.mean())"
   ]
  },
  {
   "cell_type": "markdown",
   "metadata": {},
   "source": [
    "# Uni&Bigram"
   ]
  },
  {
   "cell_type": "code",
   "execution_count": 31,
   "metadata": {},
   "outputs": [],
   "source": [
    "MixVec = CountVectorizer(max_features = 500, ngram_range = (1,2))\n",
    "Mix = BiVec.fit_transform(new_text)\n",
    "skf = StratifiedKFold(n_splits=5)"
   ]
  },
  {
   "cell_type": "code",
   "execution_count": 32,
   "metadata": {},
   "outputs": [
    {
     "name": "stdout",
     "output_type": "stream",
     "text": [
      "0.7301962457671689\n",
      "0.7111350376695293\n"
     ]
    },
    {
     "name": "stderr",
     "output_type": "stream",
     "text": [
      "/usr/local/lib/python3.5/dist-packages/sklearn/linear_model/stochastic_gradient.py:128: FutureWarning: max_iter and tol parameters have been added in <class 'sklearn.linear_model.perceptron.Perceptron'> in 0.19. If both are left unset, they default to max_iter=5 and tol=None. If tol is not None, max_iter defaults to max_iter=1000. From 0.21, default max_iter will be 1000, and default tol will be 1e-3.\n",
      "  \"and default tol will be 1e-3.\" % type(self), FutureWarning)\n"
     ]
    },
    {
     "name": "stdout",
     "output_type": "stream",
     "text": [
      "0.7618886777939342\n",
      "0.7667370754555864\n",
      "0.49044845012281224\n",
      "0.7326511330773402\n"
     ]
    }
   ],
   "source": [
    "for clf in [NB, pc, svm, lr, KNN, random_forest]:\n",
    "    acc = []\n",
    "    for train_index, test_index in skf.split(uni, new_label):\n",
    "        x_train,x_test = uni[train_index], uni[test_index]\n",
    "        y_train, y_test = new_label[train_index], new_label[test_index]\n",
    "        clf.fit(x_train, y_train)\n",
    "        acc.append(clf.score(x_test, y_test))\n",
    "    acc = np.asarray(acc)\n",
    "    print(acc.mean())"
   ]
  },
  {
   "cell_type": "code",
   "execution_count": 33,
   "metadata": {},
   "outputs": [
    {
     "name": "stdout",
     "output_type": "stream",
     "text": [
      "0.7448794744777792\n"
     ]
    }
   ],
   "source": [
    "for clf in [CNN]:\n",
    "    acc = []\n",
    "    for train_index, test_index in skf.split(uni, new_label):\n",
    "        x_train,x_test = uni[train_index], uni[test_index]\n",
    "        y_train, y_test = new_label[train_index], new_label[test_index]\n",
    "        clf.fit(x_train, y_train)\n",
    "        acc.append(clf.score(x_test, y_test))\n",
    "    acc = np.asarray(acc)\n",
    "    print(acc.mean())"
   ]
  },
  {
   "cell_type": "code",
   "execution_count": null,
   "metadata": {},
   "outputs": [],
   "source": []
  }
 ],
 "metadata": {
  "kernelspec": {
   "display_name": "Python 3",
   "language": "python",
   "name": "python3"
  },
  "language_info": {
   "codemirror_mode": {
    "name": "ipython",
    "version": 3
   },
   "file_extension": ".py",
   "mimetype": "text/x-python",
   "name": "python",
   "nbconvert_exporter": "python",
   "pygments_lexer": "ipython3",
   "version": "3.5.2"
  }
 },
 "nbformat": 4,
 "nbformat_minor": 2
}
